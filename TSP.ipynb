{
  "nbformat": 4,
  "nbformat_minor": 0,
  "metadata": {
    "colab": {
      "provenance": []
    },
    "kernelspec": {
      "name": "python3",
      "display_name": "Python 3"
    },
    "language_info": {
      "name": "python"
    }
  },
  "cells": [
    {
      "cell_type": "code",
      "execution_count": null,
      "metadata": {
        "id": "hB2FtwyjnhvK"
      },
      "outputs": [],
      "source": [
        "!pip install matplotlib deap \n"
        "import random\n",
        "import numpy as np\n",
        "import matplotlib.pyplot as plt\n",
        "from deap import base, creator, tools, algorithms\n",
        "\n",
        "# Task 1 - Define the number of locations\n",
        "num_locations = 20  # Define how many locations the salesman needs to visit\n",
        "locations = [(random.randint(0, 100), random.randint(0, 100)) for _ in range(num_locations)]  # Generate random (x, y) coordinates for each location\n",
        "depot = (50, 50)  # Define the central depot location as a fixed point\n",
        "\n",
        "# Genetic Algorithm Setup\n",
        "creator.create(\"FitnessMin\", base.Fitness, weights=(-1.0,))  # Define fitness function to minimize the total distance.\n",
        "creator.create(\"Individual\", list, fitness=creator.FitnessMin)  # Define individual structure. Individuals are lists with a fitness attribute.\n",
        "\n",
        "# Task 2 - Finish setting up the individuals and population\n",
        "toolbox = base.Toolbox()\n",
        "toolbox.register(\"indices\", random.sample, range(num_locations), num_locations)  # Function to generate a list of unique, randomly ordered location indices\n",
        "toolbox.register(\"individual\", tools.initIterate, creator.Individual, toolbox.indices)  # Function to create an individual as a shuffled list of location indices\n",
        "toolbox.register(\"population\", tools.initRepeat, list, toolbox.individual)  # Function to create a population of individuals\n",
        "\n",
        "# Fitness Function\n",
        "def evalTSP(individual):\n",
        "    total_distance = 0\n",
        "    # Create the route by visiting each location in the order given by the individual and returning to the depot\n",
        "    route = [depot] + [locations[i] for i in individual] + [depot]\n",
        "    # Calculate the total distance traveled\n",
        "    total_distance = sum(np.linalg.norm(np.array(route[i+1]) - np.array(route[i])) for i in range(len(route)-1))\n",
        "    return total_distance,\n",
        "\n",
        "toolbox.register(\"evaluate\", evalTSP)  # Register the evaluation function\n",
        "toolbox.register(\"mate\", tools.cxPartialyMatched)  # Register the crossover function suitable for permutation-based representation\n",
        "toolbox.register(\"mutate\", tools.mutShuffleIndexes, indpb=0.05)  # Register the mutation function to shuffle indices with a 5% chance per index\n",
        "toolbox.register(\"select\", tools.selTournament, tournsize=3)  # Register the selection function using tournament selection\n",
        "\n",
        "# Plotting Function\n",
        "def plot_route(individual, title=\"Optimal Route\"):\n",
        "    plt.figure()\n",
        "    # Plot locations as blue dots and the depot as a red square\n",
        "    for (x, y) in locations:\n",
        "        plt.plot(x, y, 'bo')\n",
        "    plt.plot(depot[0], depot[1], 'rs')\n",
        "\n",
        "    # Draw the route\n",
        "    route = [depot] + [locations[i] for i in individual] + [depot]\n",
        "    plt.plot(*zip(*route), '-')\n",
        "\n",
        "    plt.title(title)\n",
        "    plt.xlabel('X Coordinate')\n",
        "    plt.ylabel('Y Coordinate')\n",
        "    plt.show()\n",
        "\n",
        "# Running the Genetic Algorithm\n",
        "def main():\n",
        "    random.seed(42)  # Seed for reproducibility\n",
        "    pop = toolbox.population(n=300)  # Generate initial population\n",
        "    hof = tools.HallOfFame(1)  # Hall of Fame to store the best individual\n",
        "\n",
        "    # Setup statistics to track\n",
        "    stats = tools.Statistics(lambda ind: ind.fitness.values)\n",
        "    stats.register(\"avg\", np.mean)\n",
        "    stats.register(\"min\", np.min)\n",
        "\n",
        "    # Run the genetic algorithm\n",
        "    algorithms.eaSimple(pop, toolbox, 0.7, 0.2, 300, stats=stats, halloffame=hof)\n",
        "\n",
        "    # Plot the best route found\n",
        "    plot_route(hof[0], \"Optimal Route\")\n",
        "    return pop, stats, hof\n",
        "\n",
        "if __name__ == \"__main__\":\n",
        "    main()\n"
      ]
    }
  ]
}
